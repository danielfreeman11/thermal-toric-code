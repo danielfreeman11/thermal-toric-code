{
 "cells": [
  {
   "cell_type": "code",
   "execution_count": 1,
   "metadata": {
    "collapsed": true
   },
   "outputs": [],
   "source": [
    "%matplotlib inline"
   ]
  },
  {
   "cell_type": "code",
   "execution_count": 2,
   "metadata": {
    "collapsed": true
   },
   "outputs": [],
   "source": [
    "import matplotlib\n",
    "#matplotlib.rcParams['backend'] = \"Qt4Agg\"\n"
   ]
  },
  {
   "cell_type": "code",
   "execution_count": 3,
   "metadata": {
    "collapsed": true
   },
   "outputs": [],
   "source": [
    "import math\n",
    "import numpy as np\n",
    "import matplotlib.pyplot as plt\n",
    "import argparse\n",
    "import numpy\n",
    "\n",
    "from scipy.optimize import curve_fit\n",
    "\n",
    "#from MCbatch import *\n",
    "#import estimators as est\n",
    "\n",
    "import mplrc\n",
    "#import pylab as pl\n",
    "\n",
    "#pl.rcParams.update(mplrc.aps['params'])"
   ]
  },
  {
   "cell_type": "code",
   "execution_count": 4,
   "metadata": {
    "collapsed": true
   },
   "outputs": [],
   "source": [
    "matplotlib.rcParams.update(mplrc.aps['params'])"
   ]
  },
  {
   "cell_type": "code",
   "execution_count": 5,
   "metadata": {
    "collapsed": false
   },
   "outputs": [
    {
     "data": {
      "text/plain": [
       "[]"
      ]
     },
     "execution_count": 5,
     "metadata": {},
     "output_type": "execute_result"
    },
    {
     "name": "stderr",
     "output_type": "stream",
     "text": [
      "/usr/local/lib/python2.7/dist-packages/matplotlib/font_manager.py:1236: UserWarning: findfont: Font family ['serif'] not found. Falling back to Bitstream Vera Sans\n",
      "  (prop.get_family(), self.defaultFamily[fontext]))\n"
     ]
    },
    {
     "data": {
      "image/png": "[encoded data removed]",
      "text/plain": [
       "<matplotlib.figure.Figure at 0xae4c7ec>"
      ]
     },
     "metadata": {},
     "output_type": "display_data"
    }
   ],
   "source": [
    "plt.plot()"
   ]
  },
  {
   "cell_type": "code",
   "execution_count": 6,
   "metadata": {
    "collapsed": false
   },
   "outputs": [],
   "source": [
    "\n",
    "#!/usr/bin/python\n",
    "# pubPlot.py\n",
    "# Chris Herdman\n",
    "# 01.13.2014\n",
    "# \n",
    "# Sample of publication quality matplotlib plots\n",
    "# Requires text files with data in columns. The\n",
    "# first row begins with an \"#\" and has the column\n",
    "# labels. The first column is the x-data followed\n",
    "# by y-data alternating with errorbars, if used. \n",
    "\n",
    "\n",
    "\n",
    "\n",
    "colors = [\"#568493\", \"#C24D3B\", \"#C157C8\", \"#619D48\", \"#B0527A\", \"#A47B33\", \"#7674BF\",\n",
    "            \"#568493\", \"#C24D3B\", \"#C157C8\", \"#619D48\", \"#B0527A\", \"#A47B33\", \"#7674BF\",\n",
    "            \"#568493\", \"#C24D3B\", \"#C157C8\", \"#619D48\", \"#B0527A\", \"#A47B33\", \"#7674BF\"]\n",
    "\n",
    "\n",
    "\n",
    "plt.rc('text', usetex=True)\n",
    "plt.rc('font', family='serif')\n",
    "numpy.set_printoptions(formatter={'float': lambda x: format(x, '6.3E')})    \n",
    "\n"
   ]
  },
  {
   "cell_type": "code",
   "execution_count": 7,
   "metadata": {
    "collapsed": false
   },
   "outputs": [
    {
     "data": {
      "text/plain": [
       "'rangemax = [7,11,5,6]\\nax.set_xticks([j*5*(10**(powlist[i]-1)) for j in xrange(0,rangemax[i]*2)],minor=True)\\n#ax.set_xlim(*[0,data[:,2*i][-1]])\\nstrlist = [\\'a\\',\\'b\\',\\'c\\',\\'d\\']\\nfitlist = [-2.499872*10**-21,-1.76251*10**-4,-3.887411*10**-2,-3.25*10**-1]\\nnumofruns = [5800.,5800.,5800.,5800.]\\ncharics = [\\'(a)\\',\\'(b)\\',\\'(c)\\',\\'(d)\\']\\n#ax.text(.6,.2, charics[i]) \\nax.plot(data[:,2*i], [.75*numpy.exp(fitlist[i]*q) for q in data[:,2*i]],linestyle=\\'solid\\',markersize=3,linewidth=.5,color=\\'black\\')\\nerror = [math.sqrt(p*(1-p)/numofruns[i]) for p in [l+.25 for l in data[:,2*i+1]]]\\nerrorup = [d+n for d,n in zip(data[:,2*i+1],error)]\\nerrordown = [d-n for d,n in zip(data[:,2*i+1],error)]\\nax.fill_between(data[:,2*i],errordown,errorup, facecolor=\\'blue\\',alpha=.5,label=\\'$1\\\\sigma$\\',linestyle=\\'solid\\',linewidth=0,interpolate=True)\\nstart, end = ax.get_xlim()\\nstarty, endy = ax.get_ylim()\\nax.text(.75*(end-start),.5, charics[i])  \\nax.xaxis.set_ticks(np.arange(start, end, math.ceil((end-start)/3)))\\nax.set_yscale(\\'log\\')\\n#ax.set_xlabel(\\'$t$\\')\\nax.xaxis.set_major_formatter(matplotlib.ticker.FuncFormatter(format_time))\\n#ax.set_ylabel(\\'$\\\\Pi_{++}(t)$\\')\\nxaxespowers = [20,3,1,0]\\nxticklist = [[0.0,2.0*10**20,4.0*10**20],[0.0,2*10**3,4.0*10**3],[0.0,1.0*10,2.0*10],[0.0,1.0,3.0]]\\nax.set_xlabel(r\"$t\\times 10^{\"+str(xaxespowers[i])+\"}$\")\\nax.set_xticks(xticklist[i])\\nif i==0 or i==1:\\n    ax.xaxis.set_label_position(\\'top\\')\\n    ax.xaxis.set_ticks_position(\\'top\\')\\n#ax.ticklabel_format(axis=\\'x\\', style=\\'sci\\', scilimits=(0,0))\\nprint ax.xaxis.get_ticklabels()\\nax.xaxis.set_ticks_position(\\'top\\')\\nax.xaxis.set_label_coords(.8, 1.04)\\n#print ax.xaxis.set_ticklabels()\\n#ax.xaxis.get_major_formatter().set_powerlimits((0, 1))\\nax.set_ylabel(r\\'$\\\\langle\\\\Pi_{++}(t)\\rangle$\\')\\nax.tick_params(axis=\\'both\\', which=\\'major\\', labelsize=6)\\n\\n\\nif saveFig:\\n    plt.savefig(figName+\\'.pdf\\',dpi=600)\\nelse:\\n    plt.show()'"
      ]
     },
     "execution_count": 7,
     "metadata": {},
     "output_type": "execute_result"
    },
    {
     "data": {
      "image/png": "[encoded data removed]",
      "text/plain": [
       "<matplotlib.figure.Figure at 0xaf0558c>"
      ]
     },
     "metadata": {},
     "output_type": "display_data"
    }
   ],
   "source": [
    "saveFig = False\n",
    "\n",
    "f, ax = plt.subplots()\n",
    "\n",
    "\n",
    "def format_time(x, pos=None):\n",
    "    if x == 0:\n",
    "        return str(0)\n",
    "    else:    \n",
    "        thisexponent = int(math.log(x,10))\n",
    "        thismantissa = x/(10.**thisexponent)\n",
    "        #return \"$\"+str(round(thismantissa,2)) + \"\\cdot\"+\"10^{\" + str(thisexponent) + \"}$\"  \n",
    "        return \"$\"+str(round(thismantissa,2))+\"$\"       \n",
    "\n",
    "\n",
    "\n",
    "\n",
    "'''rangemax = [7,11,5,6]\n",
    "ax.set_xticks([j*5*(10**(powlist[i]-1)) for j in xrange(0,rangemax[i]*2)],minor=True)\n",
    "#ax.set_xlim(*[0,data[:,2*i][-1]])\n",
    "strlist = ['a','b','c','d']\n",
    "fitlist = [-2.499872*10**-21,-1.76251*10**-4,-3.887411*10**-2,-3.25*10**-1]\n",
    "numofruns = [5800.,5800.,5800.,5800.]\n",
    "charics = ['(a)','(b)','(c)','(d)']\n",
    "#ax.text(.6,.2, charics[i]) \n",
    "ax.plot(data[:,2*i], [.75*numpy.exp(fitlist[i]*q) for q in data[:,2*i]],linestyle='solid',markersize=3,linewidth=.5,color='black')\n",
    "error = [math.sqrt(p*(1-p)/numofruns[i]) for p in [l+.25 for l in data[:,2*i+1]]]\n",
    "errorup = [d+n for d,n in zip(data[:,2*i+1],error)]\n",
    "errordown = [d-n for d,n in zip(data[:,2*i+1],error)]\n",
    "ax.fill_between(data[:,2*i],errordown,errorup, facecolor='blue',alpha=.5,label='$1\\sigma$',linestyle='solid',linewidth=0,interpolate=True)\n",
    "start, end = ax.get_xlim()\n",
    "starty, endy = ax.get_ylim()\n",
    "ax.text(.75*(end-start),.5, charics[i])  \n",
    "ax.xaxis.set_ticks(np.arange(start, end, math.ceil((end-start)/3)))\n",
    "ax.set_yscale('log')\n",
    "#ax.set_xlabel('$t$')\n",
    "ax.xaxis.set_major_formatter(matplotlib.ticker.FuncFormatter(format_time))\n",
    "#ax.set_ylabel('$\\Pi_{++}(t)$')\n",
    "xaxespowers = [20,3,1,0]\n",
    "xticklist = [[0.0,2.0*10**20,4.0*10**20],[0.0,2*10**3,4.0*10**3],[0.0,1.0*10,2.0*10],[0.0,1.0,3.0]]\n",
    "ax.set_xlabel(r\"$t\\times 10^{\"+str(xaxespowers[i])+\"}$\")\n",
    "ax.set_xticks(xticklist[i])\n",
    "if i==0 or i==1:\n",
    "    ax.xaxis.set_label_position('top')\n",
    "    ax.xaxis.set_ticks_position('top')\n",
    "#ax.ticklabel_format(axis='x', style='sci', scilimits=(0,0))\n",
    "print ax.xaxis.get_ticklabels()\n",
    "ax.xaxis.set_ticks_position('top')\n",
    "ax.xaxis.set_label_coords(.8, 1.04)\n",
    "#print ax.xaxis.set_ticklabels()\n",
    "#ax.xaxis.get_major_formatter().set_powerlimits((0, 1))\n",
    "ax.set_ylabel(r'$\\langle\\Pi_{++}(t)\\rangle$')\n",
    "ax.tick_params(axis='both', which='major', labelsize=6)\n",
    "\n",
    "\n",
    "if saveFig:\n",
    "    plt.savefig(figName+'.pdf',dpi=600)\n",
    "else:\n",
    "    plt.show()'''"
   ]
  },
  {
   "cell_type": "code",
   "execution_count": 8,
   "metadata": {
    "collapsed": false
   },
   "outputs": [
    {
     "data": {
      "image/png": "[encoded data removed]",
      "text/plain": [
       "<matplotlib.figure.Figure at 0xaf000ec>"
      ]
     },
     "metadata": {},
     "output_type": "display_data"
    }
   ],
   "source": [
    "saveFig = False\n",
    "\n",
    "f, ax = plt.subplots()\n",
    "\n",
    "parseddata = []\n",
    "lambdas = []\n",
    "with open(\"outputwitherror_fixed.txt\") as f:\n",
    "    data = f.readlines()\n",
    "    for line in data:\n",
    "        d = [float(l) for l in line.split(\"\\t\")]\n",
    "        if len(d)>2:\n",
    "            if d[1] in lambdas:\n",
    "                parseddata[lambdas.index(d[1])].append(d)\n",
    "            else:\n",
    "                lambdas.append(d[1])\n",
    "                parseddata.append([])\n",
    "                parseddata[lambdas.index(d[1])].append(d)\n",
    "    \n",
    "parseddata = [sorted(d, key=lambda x: x[2]) for d in parseddata]\n",
    "parseddata = sorted(parseddata, key=lambda x: x[0][1])\n"
   ]
  },
  {
   "cell_type": "code",
   "execution_count": 9,
   "metadata": {
    "collapsed": false
   },
   "outputs": [
    {
     "name": "stdout",
     "output_type": "stream",
     "text": [
      "16.0\n",
      "12.0\n",
      "8.0\n",
      "6.0\n",
      "4.0\n",
      "3.0\n"
     ]
    },
    {
     "name": "stderr",
     "output_type": "stream",
     "text": [
      "/usr/local/lib/python2.7/dist-packages/matplotlib/collections.py:548: FutureWarning: elementwise comparison failed; returning scalar instead, but in the future will perform elementwise comparison\n",
      "  if self._edgecolors == 'face':\n"
     ]
    },
    {
     "data": {
      "image/png": "[encoded data removed]",
      "text/plain": [
       "<matplotlib.figure.Figure at 0xb00064c>"
      ]
     },
     "metadata": {},
     "output_type": "display_data"
    }
   ],
   "source": [
    "from matplotlib.font_manager import FontProperties\n",
    "\n",
    "fontP = FontProperties()\n",
    "fontP.set_size('x-small')\n",
    "\n",
    "\n",
    "plt.subplot(111, xscale=\"log\", yscale=\"log\") \n",
    "plt.xlim(2*10**-6,2*10**-3)\n",
    "plt.ylim(2*10**-2,10)\n",
    "plt.xlabel(r'$\\chi$')\n",
    "plt.ylabel(r'$(\\Gamma / \\Gamma_0)^{-1}$')\n",
    "#matplotlib.pyplot.yscale('log')\n",
    "#matplotlib.pyplot.xscale('log')\n",
    "#labellist=[96/d[1]3,4,6,8,12,16]\n",
    "for i,d in enumerate(parseddata):\n",
    "    lab = 96/d[0][1]\n",
    "    print lab\n",
    "    plt.errorbar([dd[2] for dd in d],[dd[3] for dd in d],label=r'$\\lambda$=' + str(int(lab)), \\\n",
    "                    linestyle='dots',markersize=5,marker='.',linewidth=0,elinewidth=.5,color=colors[i],\\\n",
    "                   yerr = [1.*dd[4] for dd in d])\n",
    "    #print [dd[4]/dd[3] for dd in d]\n",
    "    #plt.loglog([dd[2] for dd in d],[dd[3]+dd[4] for dd in d], \\\n",
    "    #               linestyle='-',markersize=5,marker='_',linewidth=0,color='black')\n",
    "    #plt.loglog([dd[2] for dd in d],[dd[3]-dd[4] for dd in d], \\\n",
    "    #                linestyle='-',markersize=5,marker='_',linewidth=0,color='black')\n",
    "\n",
    "#print handlelist\n",
    "#plt.legend(loc=2,ncol=2,numpoints=1,bbox_to_anchor=(1.05, 1), borderaxespad=0.)\n",
    "leg = plt.legend(loc=2,ncol=2,numpoints=1, borderaxespad=.5,prop = fontP, frameon=False)\n",
    "\n",
    "for legobj in leg.legendHandles:\n",
    "    legobj.set_linewidth(.5)\n",
    "\n",
    "\n",
    "plt.savefig('parallellambdascaling_good_fixed'+'.pdf',dpi=600,bbox_inches='tight')"
   ]
  },
  {
   "cell_type": "code",
   "execution_count": 10,
   "metadata": {
    "collapsed": false
   },
   "outputs": [
    {
     "data": {
      "image/png": "[encoded data removed]",
      "text/plain": [
       "<matplotlib.figure.Figure at 0xae7cbec>"
      ]
     },
     "metadata": {},
     "output_type": "display_data"
    }
   ],
   "source": [
    "saveFig = False\n",
    "\n",
    "f, ax = plt.subplots()\n",
    "\n",
    "parseddata = []\n",
    "lambdas = []\n",
    "with open(\"serialoutputwitherror_fixed.txt\") as f:\n",
    "    data = f.readlines()\n",
    "    for line in data:\n",
    "        d = [float(l) for l in line.split(\"\\t\")]\n",
    "        if len(d)>2:\n",
    "            if d[1] in lambdas:\n",
    "                parseddata[lambdas.index(d[1])].append(d)\n",
    "            else:\n",
    "                lambdas.append(d[1])\n",
    "                parseddata.append([])\n",
    "                parseddata[lambdas.index(d[1])].append(d)\n",
    "    \n",
    "parseddata = [sorted(d, key=lambda x: x[2]) for d in parseddata]\n",
    "parseddata = sorted(parseddata, key=lambda x: x[0][1])"
   ]
  },
  {
   "cell_type": "code",
   "execution_count": 11,
   "metadata": {
    "collapsed": false
   },
   "outputs": [
    {
     "data": {
      "image/png": "[encoded data removed]",
      "text/plain": [
       "<matplotlib.figure.Figure at 0xae5280c>"
      ]
     },
     "metadata": {},
     "output_type": "display_data"
    }
   ],
   "source": [
    "\n",
    "fontP = FontProperties()\n",
    "fontP.set_size('x-small')\n",
    "\n",
    "plt.subplot(111, xscale=\"log\", yscale=\"log\") \n",
    "plt.xlim(2*10**-5,2*10**-3)\n",
    "plt.ylim(.1,3)\n",
    "plt.xlabel(r'$\\chi$')\n",
    "plt.ylabel(r'$(\\Gamma / \\Gamma_0)^{-1}$')\n",
    "#matplotlib.pyplot.yscale('log')\n",
    "#matplotlib.pyplot.xscale('log')\n",
    "labellist=[6,4,3]\n",
    "for i,d in enumerate(parseddata):\n",
    "    plt.errorbar([dd[2] for dd in d],[dd[3] for dd in d],label=r'$\\lambda$=' + str(labellist[i]), \\\n",
    "                    linestyle='dots',markersize=5,marker='.',linewidth=0,elinewidth=.5,color=colors[i],\\\n",
    "                   yerr = [1.0*dd[4] for dd in d])\n",
    "    #plt.loglog([dd[2] for dd in d],[dd[3]+dd[4] for dd in d], \\\n",
    "    #               linestyle='-',markersize=5,marker='_',linewidth=0,color='black')\n",
    "    #plt.loglog([dd[2] for dd in d],[dd[3]-dd[4] for dd in d], \\\n",
    "    #                linestyle='-',markersize=5,marker='_',linewidth=0,color='black')\n",
    "\n",
    "#print handlelist\n",
    "leg = plt.legend(loc=2,numpoints=1, borderaxespad=.5,prop = fontP, frameon=False)\n",
    "\n",
    "for legobj in leg.legendHandles:\n",
    "    legobj.set_linewidth(.5)\n",
    "\n",
    "plt.savefig('seriallambdascaling_good_fixed'+'.pdf',dpi=600,bbox_inches='tight')"
   ]
  },
  {
   "cell_type": "code",
   "execution_count": 12,
   "metadata": {
    "collapsed": false
   },
   "outputs": [
    {
     "data": {
      "image/png": "[encoded data removed]",
      "text/plain": [
       "<matplotlib.figure.Figure at 0xb76ef0c>"
      ]
     },
     "metadata": {},
     "output_type": "display_data"
    }
   ],
   "source": [
    "saveFig = False\n",
    "\n",
    "f, ax = plt.subplots()\n",
    "\n",
    "parseddata = []\n",
    "lambdas = []\n",
    "with open(\"lengthsweepwitherror_fixed.txt\") as f:\n",
    "    data = f.readlines()\n",
    "    for line in data:\n",
    "        d = [float(l) for l in line.split(\"\\t\")]\n",
    "        if len(d)>2:\n",
    "            if d[1] in lambdas:\n",
    "                parseddata[lambdas.index(d[1])].append(d)\n",
    "            else:\n",
    "                lambdas.append(d[1])\n",
    "                parseddata.append([])\n",
    "                parseddata[lambdas.index(d[1])].append(d)\n",
    "    \n",
    "parseddata = [sorted(d, key=lambda x: x[2]) for d in parseddata]\n",
    "parseddata = sorted(parseddata, key=lambda x: x[0][1])"
   ]
  },
  {
   "cell_type": "code",
   "execution_count": 13,
   "metadata": {
    "collapsed": false
   },
   "outputs": [
    {
     "data": {
      "image/png": "[encoded data removed]",
      "text/plain": [
       "<matplotlib.figure.Figure at 0xb1997ac>"
      ]
     },
     "metadata": {},
     "output_type": "display_data"
    }
   ],
   "source": [
    "plt.subplot(111, xscale=\"linear\", yscale=\"linear\") \n",
    "plt.xlim(2*10**-5,2*10**-3)\n",
    "plt.ylim(.1,8.5)\n",
    "plt.xlabel(r'$\\chi$')\n",
    "plt.ylabel(r'$(\\Gamma / \\Gamma_0)^{-1}$')\n",
    "#matplotlib.pyplot.yscale('log')\n",
    "#matplotlib.pyplot.xscale('log')\n",
    "labellist=[48,96,192]\n",
    "for i,d in enumerate(parseddata):\n",
    "    plt.errorbar([dd[2] for dd in d],[dd[3] for dd in d],label=r'$L$=' + str(labellist[i]), \\\n",
    "                    linestyle='dots',markersize=5,marker='.',linewidth=0,elinewidth=.5,color=colors[i],\\\n",
    "                   yerr = [1.0*dd[4] for dd in d])\n",
    "    #plt.loglog([dd[2] for dd in d],[dd[3]+dd[4] for dd in d], \\\n",
    "    #               linestyle='-',markersize=5,marker='_',linewidth=0,color='black')\n",
    "    #plt.loglog([dd[2] for dd in d],[dd[3]-dd[4] for dd in d], \\\n",
    "    #                linestyle='-',markersize=5,marker='_',linewidth=0,color='black')\n",
    "\n",
    "#print handlelist\n",
    "leg = plt.legend(loc=0,numpoints=1, borderaxespad=.5,prop = fontP, frameon=False)\n",
    "\n",
    "for legobj in leg.legendHandles:\n",
    "    legobj.set_linewidth(.5)\n",
    "\n",
    "plt.savefig('parallellengthscaling_good_fixed'+'.pdf',dpi=600,bbox_inches='tight')"
   ]
  },
  {
   "cell_type": "code",
   "execution_count": 14,
   "metadata": {
    "collapsed": false
   },
   "outputs": [
    {
     "data": {
      "image/png": "[encoded data removed]",
      "text/plain": [
       "<matplotlib.figure.Figure at 0xb3ec86c>"
      ]
     },
     "metadata": {},
     "output_type": "display_data"
    }
   ],
   "source": [
    "plt.subplot(111, xscale=\"linear\", yscale=\"linear\") \n",
    "plt.xlim(0,.17)\n",
    "plt.ylim(-.05,.65)\n",
    "plt.xlabel(r'$\\chi L$')\n",
    "plt.ylabel(r'$(\\Gamma / \\Gamma_{\\rm{Cycling}})^{-1}$')\n",
    "#matplotlib.pyplot.yscale('log')\n",
    "#matplotlib.pyplot.xscale('log')\n",
    "labellist=[48,96,192]\n",
    "for i,d in enumerate(parseddata):\n",
    "    \n",
    "    #3*(6.24875E-07)*(.0007*.0007)/(d[2]*(labellist[i]-8))\n",
    "    \n",
    "    \n",
    "    #The seemingly magic prefactor in here which rescales the data is exactly the combination of rates\n",
    "    #appearing in equation (14) in the paper (where I'm accounting for the fact the data itself is already\n",
    "    #rescaled by the protocol-free lifetime)\n",
    "    plt.errorbar([dd[2]*labellist[i] for dd in d],[dd[3]*2.10E-03/(dd[2]*(labellist[i]-8)) for dd in d],label=r'$L$=' + str(labellist[i]), \\\n",
    "                    linestyle='dots',markersize=5,marker='.',linewidth=0,elinewidth=.5,color=colors[i],\\\n",
    "                   yerr = [1.0*dd[4]*2.10E-03/(dd[2]*(labellist[i]-8)) for dd in d])\n",
    "    #plt.loglog([dd[2] for dd in d],[dd[3]+dd[4] for dd in d], \\\n",
    "    #               linestyle='-',markersize=5,marker='_',linewidth=0,color='black')\n",
    "    #plt.loglog([dd[2] for dd in d],[dd[3]-dd[4] for dd in d], \\\n",
    "    #                linestyle='-',markersize=5,marker='_',linewidth=0,color='black')\n",
    "\n",
    "#print handlelist\n",
    "leg = plt.legend(loc=0,numpoints=1, borderaxespad=.5,prop = fontP, frameon=False)\n",
    "\n",
    "for legobj in leg.legendHandles:\n",
    "    legobj.set_linewidth(.5)\n",
    "\n",
    "plt.savefig('parallellengthscaling_good_collapse_fixed'+'.pdf',dpi=600,bbox_inches='tight')"
   ]
  },
  {
   "cell_type": "code",
   "execution_count": 52,
   "metadata": {
    "collapsed": false
   },
   "outputs": [
    {
     "data": {
      "image/png": "[encoded data removed]",
      "text/plain": [
       "<matplotlib.figure.Figure at 0xa3a456c>"
      ]
     },
     "metadata": {},
     "output_type": "display_data"
    }
   ],
   "source": [
    "saveFig = False\n",
    "\n",
    "f, ax = plt.subplots()\n",
    "\n",
    "parseddata = []\n",
    "#lambdas = []\n",
    "with open(\"maxratedatawitherror.txt\") as f:\n",
    "    data = f.readlines()\n",
    "    for line in data:\n",
    "        d = [float(l) for l in line.split(\"\\t\")]\n",
    "        if len(d)>2:\n",
    "            parseddata.append([1./d[3],d[2],d[0]])"
   ]
  },
  {
   "cell_type": "code",
   "execution_count": 53,
   "metadata": {
    "collapsed": false
   },
   "outputs": [
    {
     "name": "stdout",
     "output_type": "stream",
     "text": [
      "[3.814E-02 -2.130E-05] [[3.153E-07 -5.517E-09]\n",
      " [-5.517E-09 1.099E-10]]\n"
     ]
    },
    {
     "data": {
      "image/png": "[encoded data removed]",
      "text/plain": [
       "<matplotlib.figure.Figure at 0x93dfe4c>"
      ]
     },
     "metadata": {},
     "output_type": "display_data"
    }
   ],
   "source": [
    "from scipy.optimize import curve_fit\n",
    "def func(x, a, b):\n",
    "    return a * x + b\n",
    "\n",
    "popt, pcov = curve_fit(func, np.array([dd[0] for dd in parseddata[1:]]), np.array([dd[1] for dd in parseddata[1:]]) )\n",
    "print popt,pcov\n",
    "\n",
    "\n",
    "\n",
    "plt.subplot(111, xscale=\"linear\", yscale=\"linear\") \n",
    "plt.xlim(0.0075,.04)\n",
    "plt.ylim(0.0002,.0015)\n",
    "plt.xlabel(r'$1/L$')\n",
    "plt.ylabel(r'$\\chi_c$')\n",
    "\n",
    "plt.errorbar([dd[0] for dd in parseddata],[dd[1] for dd in parseddata], \\\n",
    "                linestyle='dots',markersize=5,marker='.',linewidth=0,elinewidth=.5,color=colors[0],\\\n",
    "               yerr = [dd[2] for dd in parseddata])\n",
    "plt.plot([0,.05],[popt[1], popt[0]*.05+popt[1]],linewidth=1,color=colors[1], marker=None)\n",
    "\n",
    "\n",
    "plt.savefig('maxchi_scaling_good'+'.pdf',dpi=600,bbox_inches='tight')"
   ]
  },
  {
   "cell_type": "code",
   "execution_count": 54,
   "metadata": {
    "collapsed": false
   },
   "outputs": [
    {
     "data": {
      "text/plain": [
       "[[0.037037037037037035, 0.001252233, 0.000108],\n",
       " [0.03333333333333333, 0.001252233, 0.000108],\n",
       " [0.030303030303030304, 0.001144148, 9.88e-05],\n",
       " [0.027777777777777776, 0.001045392, 9.02e-05],\n",
       " [0.02564102564102564, 0.00095516, 8.24e-05],\n",
       " [0.023809523809523808, 0.000872716, 7.53e-05],\n",
       " [0.022222222222222223, 0.000797388, 6.88e-05],\n",
       " [0.020833333333333332, 0.000797388, 6.88e-05],\n",
       " [0.0196078431372549, 0.000728562, 6.29e-05],\n",
       " [0.018518518518518517, 0.000665677, 5.75e-05],\n",
       " [0.017543859649122806, 0.000665677, 5.75e-05],\n",
       " [0.016666666666666666, 0.00060822, 5.25e-05],\n",
       " [0.015873015873015872, 0.00060822, 5.25e-05],\n",
       " [0.015151515151515152, 0.000555722, 4.8e-05],\n",
       " [0.014492753623188406, 0.000507755, 4.38e-05],\n",
       " [0.013888888888888888, 0.000463929, 4e-05],\n",
       " [0.013333333333333334, 0.000507755, 4.38e-05],\n",
       " [0.01282051282051282, 0.000463929, 4e-05],\n",
       " [0.012345679012345678, 0.000463929, 4e-05],\n",
       " [0.011904761904761904, 0.000423885, 3.66e-05],\n",
       " [0.011494252873563218, 0.000423885, 3.66e-05],\n",
       " [0.011111111111111112, 0.000423885, 3.66e-05],\n",
       " [0.010752688172043012, 0.000387298, 3.34e-05],\n",
       " [0.010416666666666666, 0.000387298, 3.34e-05],\n",
       " [0.010101010101010102, 0.000353869, 3.05e-05]]"
      ]
     },
     "execution_count": 54,
     "metadata": {},
     "output_type": "execute_result"
    }
   ],
   "source": [
    "parseddata"
   ]
  },
  {
   "cell_type": "code",
   "execution_count": null,
   "metadata": {
    "collapsed": true
   },
   "outputs": [],
   "source": []
  }
 ],
 "metadata": {
  "kernelspec": {
   "display_name": "Python 2",
   "language": "python",
   "name": "python2"
  },
  "language_info": {
   "codemirror_mode": {
    "name": "ipython",
    "version": 2
   },
   "file_extension": ".py",
   "mimetype": "text/x-python",
   "name": "python",
   "nbconvert_exporter": "python",
   "pygments_lexer": "ipython2",
   "version": "2.7.3"
  }
 },
 "nbformat": 4,
 "nbformat_minor": 0
}
